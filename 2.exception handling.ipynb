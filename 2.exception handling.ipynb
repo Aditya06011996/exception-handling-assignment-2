{
 "cells": [
  {
   "cell_type": "markdown",
   "id": "b9bdf7bd-1c4d-4690-b6e3-131adf71593e",
   "metadata": {},
   "source": [
    "Q 1 Explain why we have to use the Exception class while creating a custom exception."
   ]
  },
  {
   "cell_type": "markdown",
   "id": "e3250855-fef2-47fd-86ee-cd95a1f69f95",
   "metadata": {},
   "source": [
    "Ans 1 Using an Exception class while creating a custom exception provides several benefits and follows the principles of good software design. Here are a few reasons why using an exception class is important:\n",
    "\n",
    "1.Clarity and Readability: By creating a custom exception class, you can give your exception a meaningful and descriptive name that communicates the nature of the problem. This enhances the clarity and readability of your code. When someone reads your code or encounters the exception, they can understand the purpose and context of the exception immediately.\n",
    "\n",
    "2.Hierarchial Organization:Exception classes allow you to define a hierarchy of exceptions. You can create a base exception class and then derives specific exceptions from it. This hierarchical organization enables you to handle exceptions at differnt levels of granularity. \n",
    "\n",
    "3.Exception specific information: When you create a custom exception class, you can include additional attributes and methods that provide specific information related to the exception. \n",
    "\n",
    "4.Consistency and Reusability: By using an exception class, you conform to the established exception handling mechanism in the programming language or framework you're using."
   ]
  },
  {
   "cell_type": "markdown",
   "id": "264eb96d-484d-48d7-8113-f77b96c3eab1",
   "metadata": {},
   "source": [
    "Q 2 Write a python program to print python exception Hierarchy."
   ]
  },
  {
   "cell_type": "code",
   "execution_count": 1,
   "id": "ddf519a1-0a30-4656-a103-3370a12d6035",
   "metadata": {},
   "outputs": [],
   "source": [
    "def print_exception_hierarchy(base_class, indent=''):\n",
    "    subclasses = base_class.__subclasses__()\n",
    "    \n",
    "    for subclass in subclasses:\n",
    "        print(f'{indent}| - {subclass.__name__}')\n",
    "        print_exception_hierarchy(subclass, indent + '  ')"
   ]
  },
  {
   "cell_type": "markdown",
   "id": "efacc31e-ac2a-44c4-a7fc-2e4866c5fc97",
   "metadata": {},
   "source": [
    "Q 3 What errors are defined in the ArithmeticError class? Explain any two with an example."
   ]
  },
  {
   "cell_type": "markdown",
   "id": "cdd0efac-a37a-43c5-a9dc-6849e447d9d1",
   "metadata": {},
   "source": [
    "The 'ArithmeticError' class is the base class for exceptions that occur during airthmetic operations. It is a subclass of the 'Exception' class and is further subclassed into various specific exceptions related to arithmetic errors. Here are two commmon exceptions that are defined in the 'ArithmeticError'class."
   ]
  },
  {
   "cell_type": "markdown",
   "id": "82d55975-0e3c-4a09-898d-4abb541f05f5",
   "metadata": {},
   "source": [
    "(1).ZeroDivisionError : This exception is raised whena division or modulo operation is performed with a zero divisor."
   ]
  },
  {
   "cell_type": "code",
   "execution_count": 4,
   "id": "2b612d12-7d5e-4c2e-9d32-e641c75621c5",
   "metadata": {},
   "outputs": [
    {
     "name": "stdout",
     "output_type": "stream",
     "text": [
      "Error: Division by zero occured.\n"
     ]
    }
   ],
   "source": [
    "try:\n",
    "    result = 10 / 0\n",
    "except ZeroDivisionError:\n",
    "    print(\"Error: Division by zero occured.\")"
   ]
  },
  {
   "cell_type": "markdown",
   "id": "a698a0ce-55a6-4d19-9fc2-e018c55170b7",
   "metadata": {},
   "source": [
    "(2) OverflowError: This exception is raised when the result of an arithmetic operation is too large to be expressed within the available range."
   ]
  },
  {
   "cell_type": "code",
   "execution_count": 6,
   "id": "fad2ca29-816d-4411-be19-d17340db88fe",
   "metadata": {},
   "outputs": [],
   "source": [
    "import sys\n",
    "\n",
    "try:\n",
    "    result = sys.maxsize*2\n",
    "except OverflowError:\n",
    "    print(\"Error: Arithmetic operation resulted in overflow.\")"
   ]
  },
  {
   "cell_type": "markdown",
   "id": "c237d220-af11-4cb1-9a40-a1b6e503ab8a",
   "metadata": {},
   "source": [
    "Q 4 Why LookupError class is used? Explain with an example KeyError and IndexError."
   ]
  },
  {
   "cell_type": "markdown",
   "id": "1edc9e8a-771e-4e22-96e1-153fc4f0341b",
   "metadata": {},
   "source": [
    "Ans - The 'LookupError' class is a base class for exceptions that occur when a lookup or indexing operation fails. It is used to handle errors related to accessing elements in sequence(like lists or tuples) or mappings (like dictionaries) when the specified key or index is not found.\n",
    "\n",
    "KeyError is a subclass of LookupError that occurs when trying to access a dictionary using a key that does not exist. It is raised when an invalid key is used to retrieve a value from a dictionary. Here's an example:"
   ]
  },
  {
   "cell_type": "code",
   "execution_count": 1,
   "id": "5a6435af-b332-4249-b336-7424dd499166",
   "metadata": {},
   "outputs": [
    {
     "name": "stdout",
     "output_type": "stream",
     "text": [
      "KeyError occured: 'd'\n"
     ]
    }
   ],
   "source": [
    "my_dict = {'a': 1, 'b':2, 'c':3}\n",
    "\n",
    "try:\n",
    "    value = my_dict['d']\n",
    "except KeyError as e:\n",
    "    print(\"KeyError occured:\",e)"
   ]
  },
  {
   "cell_type": "markdown",
   "id": "a3eeba01-f250-418c-a58e-864b19d865b5",
   "metadata": {},
   "source": [
    "'IndexError' is another subclass of 'LookupError' that occurs when trying to access a sequence (e.g , a list or a tuple) using an index that is out of range. Here's an example:"
   ]
  },
  {
   "cell_type": "code",
   "execution_count": 2,
   "id": "af0ef451-e502-41b5-b595-cf503c9745ce",
   "metadata": {},
   "outputs": [
    {
     "name": "stdout",
     "output_type": "stream",
     "text": [
      "IndexError occured: list index out of range\n"
     ]
    }
   ],
   "source": [
    "my_list = [1,2,3]\n",
    "\n",
    "try:\n",
    "    value = my_list[3]\n",
    "except IndexError as e: \n",
    "    print(\"IndexError occured:\",e)"
   ]
  },
  {
   "cell_type": "markdown",
   "id": "4d6b8d72-db71-44bf-b647-11209dd9f3ee",
   "metadata": {},
   "source": [
    "Both 'KeyError' and 'IndexError' are specific subclasses of 'LookupError' that provide more specific information about the nature of the lookup or indexing failure. They allow you to handle these errors separately and take appropriate action based on the specific context of the problem."
   ]
  },
  {
   "cell_type": "markdown",
   "id": "9562d52c-3ff5-400b-aac7-514e418cc7cd",
   "metadata": {},
   "source": [
    "Q 5 Explain ImportError. What is ModuleNotFoundError?"
   ]
  },
  {
   "cell_type": "markdown",
   "id": "d6f4e27a-e9b6-4916-b219-754d60cd534b",
   "metadata": {},
   "source": [
    "Ans 5 An ImportError is a type of exception that occurs in programming when an import statement fails to locate and import a module or package in the current execution environment.\n",
    "\n",
    "when you import a module or package in a programming language like python, the interpreter searches for the specified module or package in a predefined set of locations , such as the current directory, the standard library, or additional directories specified in the system's environment variables. If the interpreter cannot find the requested module or package in any of these locations, it raises an 'ImportError' to indicate that the import operation has failed. \n",
    "\n",
    "There are several common reasons why an ImportError might occur:\n",
    "1.Module not installed\n",
    "2.Incorrect module name\n",
    "3.Missing dependencies\n",
    "4.Incorrect file path\n",
    "5.Circular imports\n",
    "\n",
    "\n",
    "'ModuleNotFoundError' is a specific type of 'ImportError' that occurs when the Python interpreter cannot locate the module or package you are trying to import. It is raised when the specified module or package is not found in any of the locations where Python searches for modules.\n"
   ]
  },
  {
   "cell_type": "markdown",
   "id": "2dafab9f-0f27-4871-8837-a15080d711be",
   "metadata": {},
   "source": [
    "Q 6 List down some best practices for exceptions handling in python."
   ]
  },
  {
   "cell_type": "markdown",
   "id": "66a850de-f242-49e8-b27a-132c699039ca",
   "metadata": {},
   "source": [
    "Ans 1.Be specific with exception handling : Instead of using a generic except clause, try to catch specific exceptions that you anticipate. This helps in better error diagnosis and prevents catching unrelated exceptions.\n",
    "\n",
    "2.Use multiple except clauses : If you expect different types of exceptions , use separate except clauses for each one. This allows you to handle each exception differntly based on its type. \n",
    "\n",
    "3.Use a global handler : Place a global exception handler at the top level of your code to catch any unhandled exceptions. This ensures that your program doesn't terminate abruptly and provides a graceful way to handle unexpected errors.\n",
    "\n",
    "4.Handle exceptions gracefully : Instead of allowing exceptions to crash your program, handle them gracefully by providing informative error message or performing alternative actions. This helps users understand what went wrong and potentially recover from errors. \n",
    "\n",
    "5.Avoid catching all exceptions indiscriminately : Catching all exceptions with a single except clause is generally not recommended. It can mask programming errors or unexpected conditions. Catch only the specific exceptions that you anticipate and handle appropriately.\n",
    "\n",
    "6.Use the finally block : When necessary , use the finally block to perform cleanup operations that must be executed regardless of whether an exception occured or not. This is particularly useful for releasing resources like file handles or network connections.\n",
    "\n",
    "7.Log exceptions : Use a logging framework to record exceptions along with relevant information like timestamps , error messages, and stack traces. This helps in debugging and troubleshooting issues.\n",
    "\n",
    "8.Raise exceptions instead of returning error codes : Instead of returning error codes or special values to indicate errors, raise exceptions to signal exceptional conditions. This makes error handling more explicit and allows you to provide more detailed error information.\n",
    "\n",
    "9.Avoid bare except clauses : Using a bare except clause without specifying the exception type is generally discouraged. It can catch unexpected exceptions, making it harder to diagnose and fix issues. Always try to be explicit about the types of exceptions you expect to handle.\n",
    "\n",
    "10.Test excetion handling : Include appropriate test cases to verify that your exception handling is working as expected. This helps ensure that your code behaves correctly in the presence of exceptions.\n",
    "\n",
    "Remember, exception handling should be used for exceptional conditions and not as a substitute for regular control flow. It's important to strike a balance between providing robust error handling and not overly complicating your code with excessive exception handling."
   ]
  },
  {
   "cell_type": "code",
   "execution_count": null,
   "id": "a5fe1c88-10f5-42e2-8cb0-ef65af9545d9",
   "metadata": {},
   "outputs": [],
   "source": []
  }
 ],
 "metadata": {
  "kernelspec": {
   "display_name": "Python 3 (ipykernel)",
   "language": "python",
   "name": "python3"
  },
  "language_info": {
   "codemirror_mode": {
    "name": "ipython",
    "version": 3
   },
   "file_extension": ".py",
   "mimetype": "text/x-python",
   "name": "python",
   "nbconvert_exporter": "python",
   "pygments_lexer": "ipython3",
   "version": "3.10.8"
  }
 },
 "nbformat": 4,
 "nbformat_minor": 5
}
